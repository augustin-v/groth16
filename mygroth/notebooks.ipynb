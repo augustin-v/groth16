{
 "cells": [
  {
   "cell_type": "markdown",
   "metadata": {},
   "source": [
    "Thanks to RareSkill's awesome ZK book I've acquired enough knowledge to implement Groth16 in python.<br>Though I don't expect this to be easy, I'll leverage my giga brain and exceptional resilience to apply what I've learned to this complex and interesting project.\n",
    "\n",
    "### Quick introduction to Groth16\n",
    "Groth16 is a magic algorithm to validate that a statement is true without revealing any information about the inputs.<br>\n",
    "For example, imagine that you want to prove to someone that you know a secret number that satisfies a specific equation without revealing the number itself; <br>the Groth16 algorithm could do just that.\n",
    "It is known for its efficiency and small proof size, though it comes with one compromise: The need of a trusted setup.\n",
    "\n",
    "### Polynomial Secret Proof PoC \n",
    "To dive into the practical implementation of Groth16, I'll start with a foundational example that showcases its core strengths.<br> \n",
    "I'm going to implement a system that proves knowledge of a secret value that satisfies a polynomial equation:<br> something like proving **I know a secret {x,y,z} such that $5x² + xy + 4z³ = 1059$**, without ever revealing what ${x,y,z}$ actually is. <BR><BR> The prover (likely the user) must provide the correct ${x,y,x}$ values which in our case are: $x = 13$,  $y = 14$,  $z = 2$ though they will stay private and the verifier will not have access to these raw values.\n",
    "\n",
    "#### Steps and required setup overview (ordered):\n",
    "- Define the R1CS constraint system based on our polynomial equation\n",
    "- Convert R1CS -> QAP\n",
    "- Implement the trusted setup phase to generate proving and verification keys\n",
    "- Build the prover that creates ZK proofs using the secret witness\n",
    "- Build the verifier that validates proofs without learning the secret\n",
    "- Test the complete workflow with our polynomial example\n",
    "\n",
    "---\n",
    "\n",
    "### Defining the R1CS constraints\n",
    "\n",
    "Lets say we are proving our earlier  equation $1059 = 5x² + xy + 4z³$, we want to prove that we know the solution ($x = 13$,  $y = 14$,  $z = 2$).<BR><BR>\n",
    "We want to only have a single multiplication:<BR>\n",
    "\n",
    "-  $v_1 = xx$ <BR>\n",
    "-  $v_2 = 5v_1$\n",
    "-  $v_3 = zz$\n",
    "-  $v_4 = 4z * v_3$<BR><BR><BR> So we are left with a single mutliplication:<BR><BR>\n",
    "$1059 = v_2 + xy + v_4$<BR><BR>\n",
    "Simplified:<BR><BR>$1059 - v_2 - v_4 = xy$\n",
    "\n",
    "<BR><BR>\n",
    "we define the witness vector with all variables, including a constant $1$ as the first variable:<BR><BR>\n",
    "let $out = 1059$<BR><BR>\n",
    "let $w$ be the witness vector<BR><B>\n",
    "\n",
    "$w = [1,out,x,y,z,v_1,v_2,v_3,v_4]$<BR>\n",
    "$w = [1,1059,13,14,2,169,845,4,32]$\n",
    "<BR><BR><B>then define $O=L*R$, with our 5 constraints<BR>\n",
    "\n",
    "$L = \\begin{bmatrix}\n",
    "0 & 0 & 1 & 0 & 0 & 0 & 0 & 0 & 0 \\\\\n",
    "5 & 0 & 0 & 0 & 0 & 0 & 0 & 0 & 0 \\\\\n",
    "0 & 0 & 0 & 0 & 1 & 0 & 0 & 0 & 0 \\\\\n",
    "0 & 0 & 0 & 0 & 4 & 0 & 0 & 0 & 0 \\\\\n",
    "0 & 0 & 1 & 0 & 0 & 0 & 0 & 0 & 0 \\\\\n",
    "\\end{bmatrix}$\n",
    "\n",
    "$R = \\begin{bmatrix}\n",
    "0 & 0 & 1 & 0 & 0 & 0 & 0 & 0 & 0 \\\\\n",
    "0 & 0 & 0 & 0 & 0 & 1 & 0 & 0 & 0 \\\\\n",
    "0 & 0 & 0 & 0 & 1 & 0 & 0 & 0 & 0 \\\\\n",
    "0 & 0 & 0 & 0 & 0 & 0 & 0 & 1 & 0 \\\\\n",
    "0 & 0 & 0 & 1 & 0 & 0 & 0 & 0 & 0 \\\\\n",
    "\\end{bmatrix}$\n",
    "\n",
    "$O = \\begin{bmatrix}\n",
    "0 & 0 & 0 & 0 & 0 & 1 & 0 & 0 & 0 \\\\\n",
    "0 & 0 & 0 & 0 & 0 & 0 & 1 & 0 & 0 \\\\\n",
    "0 & 0 & 0 & 0 & 0 & 0 & 0 & 1 & 0 \\\\\n",
    "0 & 0 & 0 & 0 & 0 & 0 & 0 & 0 & 1 \\\\\n",
    "0 & 1 & 0 & 0 & 0 & 0 & -1 & 0 & -1 \\\\\n",
    "\\end{bmatrix}$\n",
    "\n",
    "Lets verify the circuit is correct with code"
   ]
  },
  {
   "cell_type": "code",
   "execution_count": 2,
   "metadata": {},
   "outputs": [
    {
     "name": "stdout",
     "output_type": "stream",
     "text": [
      "Ow = Lw * Rw:  True\n"
     ]
    }
   ],
   "source": [
    "from py_ecc.optimized_bn128 import curve_order\n",
    "import galois\n",
    "import numpy as np\n",
    "\n",
    "# define finite field on the bn128 EC (commonly used by Ethereum)\n",
    "GF = galois.GF(curve_order) # = 21888242871839275222246405745257275088548364400416034343698204186575808495617\n",
    "\n",
    "# witness vector\n",
    "w = GF([1,1059,13,14,2,169,845,4,32])\n",
    "\n",
    "# [1,out,x,y,z,v_1,v_2,v_3,v_4]\n",
    "L = GF(np.array([\n",
    "    [0, 0, 1, 0, 0, 0, 0, 0, 0],\n",
    "    [5, 0, 0, 0, 0, 0, 0, 0, 0],\n",
    "    [0, 0, 0, 0, 1, 0, 0, 0, 0],\n",
    "    [0, 0, 0, 0, 4, 0, 0, 0, 0],\n",
    "    [0, 0, 1, 0, 0, 0, 0, 0, 0],\n",
    "]))\n",
    "\n",
    "R = GF(np.array([\n",
    "    [0, 0, 1, 0, 0, 0, 0, 0, 0],\n",
    "    [0, 0, 0, 0, 0, 1, 0, 0, 0],\n",
    "    [0, 0, 0, 0, 1, 0, 0, 0, 0],\n",
    "    [0, 0, 0, 0, 0, 0, 0, 1, 0],\n",
    "    [0, 0, 0, 1, 0, 0, 0, 0, 0],\n",
    "]))\n",
    "\n",
    "O = GF(np.array([\n",
    "    [0, 0, 0, 0, 0, 1, 0, 0, 0],\n",
    "    [0, 0, 0, 0, 0, 0, 1, 0, 0],\n",
    "    [0, 0, 0, 0, 0, 0, 0, 1, 0],\n",
    "    [0, 0, 0, 0, 0, 0, 0, 0, 1],\n",
    "    [0, 1, 0, 0, 0, 0, curve_order-1, 0, curve_order-1], # since we are working on a finite field i.e. -1 mod 17 = 16\n",
    "]))\n",
    "\n",
    "result = np.matmul(O, w) == np.multiply(np.matmul(L, w), np.matmul(R, w))\n",
    "\n",
    "assert result.all(), \"incorrect, should be equal\"\n",
    "print(\"Ow = Lw * Rw: \" , result.all())\n",
    "\n"
   ]
  },
  {
   "cell_type": "markdown",
   "metadata": {},
   "source": [
    "#### As expected **it works**! If we changed even a single number it would obviously fail.\n",
    "\n",
    "## R1CS -> QAP\n",
    "\n",
    "\n",
    "*One Step Closer To **The Powers Of TAU!!** (exceptional naming sense).*<BR><BR> Now it is time to turn the R1CS to a QAP for the verifier, leveraging the Lagrange interpolations to represent the R1CS as polynomials for each column of all of the matrices,<BR> and the Schwartz-Zippel Lemma in order to achieve succintness. This helps groth16 be incredibly more efficient and massively reducing the proof size.\n",
    "\n",
    "\n",
    "### First: transorm R1CS into polynomials\n",
    "\n",
    "Here is the code for it, looping through each column:"
   ]
  },
  {
   "cell_type": "code",
   "execution_count": 3,
   "metadata": {},
   "outputs": [
    {
     "name": "stdout",
     "output_type": "stream",
     "text": [
      "interplolated all columns\n",
      "\n",
      "Result:\n",
      "\n",
      "\n",
      "[Poly(18240202393199396018538671454381062573790303667013361953081836822146507079680x^4 + 3648040478639879203707734290876212514758060733402672390616367364429301415947x^3 + 3648040478639879203707734290876212514758060733402672390616367364429301415887x^2 + 18240202393199396018538671454381062573790303667013361953081836822146507079770x + 21888242871839275222246405745257275088548364400416034343698204186575808495567, GF(21888242871839275222246405745257275088548364400416034343698204186575808495617)), Poly(0, GF(21888242871839275222246405745257275088548364400416034343698204186575808495617)), Poly(20064222632519335620392538599819168831169334033714698148390020504361157787649x^4 + 21888242871839275222246405745257275088548364400416034343698204186575808495616x^3 + 12768141675239577212977070018066743801653212566909353367157285775502554955781x^2 + 10944121435919637611123202872628637544274182200208017171849102093287904247800x + 6, GF(21888242871839275222246405745257275088548364400416034343698204186575808495617)), Poly(0, GF(21888242871839275222246405745257275088548364400416034343698204186575808495617)), Poly(9120101196599698009269335727190531286895151833506680976540918411073253539840x^4 + 14592161914559516814830937163504850059032242933610689562465469457717205663749x^3 + 1824020239319939601853867145438106257379030366701336195308183682214650707953x^2 + 18240202393199396018538671454381062573790303667013361953081836822146507079702x + 21888242871839275222246405745257275088548364400416034343698204186575808495607, GF(21888242871839275222246405745257275088548364400416034343698204186575808495617)), Poly(0, GF(21888242871839275222246405745257275088548364400416034343698204186575808495617)), Poly(0, GF(21888242871839275222246405745257275088548364400416034343698204186575808495617)), Poly(0, GF(21888242871839275222246405745257275088548364400416034343698204186575808495617)), Poly(0, GF(21888242871839275222246405745257275088548364400416034343698204186575808495617))]\n",
      "[Poly(0, GF(21888242871839275222246405745257275088548364400416034343698204186575808495617)), Poly(0, GF(21888242871839275222246405745257275088548364400416034343698204186575808495617)), Poly(20976232752179305421319472172538221959858849217065366246044112345468483141633x^4 + 12768141675239577212977070018066743801653212566909353367157285775502554955776x^3 + 912010119659969800926933572719053128689515183350668097654091841107325353987x^2 + 9120101196599698009269335727190531286895151833506680976540918411073253539834x + 5, GF(21888242871839275222246405745257275088548364400416034343698204186575808495617)), Poly(20976232752179305421319472172538221959858849217065366246044112345468483141633x^4 + 9120101196599698009269335727190531286895151833506680976540918411073253539840x^3 + 11856131555579607412050136445347690672963697383558685269503193934395229601794x^2 + 1824020239319939601853867145438106257379030366701336195308183682214650707966x + 1, GF(21888242871839275222246405745257275088548364400416034343698204186575808495617)), Poly(16416182153879456416684804308942956316411273300312025757773653139931856371713x^4 + 21888242871839275222246405745257275088548364400416034343698204186575808495614x^3 + 16416182153879456416684804308942956316411273300312025757773653139931856371725x^2 + 10944121435919637611123202872628637544274182200208017171849102093287904247789x + 10, GF(21888242871839275222246405745257275088548364400416034343698204186575808495617)), Poly(3648040478639879203707734290876212514758060733402672390616367364429301415936x^4 + 18240202393199396018538671454381062573790303667013361953081836822146507079683x^3 + 18240202393199396018538671454381062573790303667013361953081836822146507079671x^2 + 3648040478639879203707734290876212514758060733402672390616367364429301415954x + 21888242871839275222246405745257275088548364400416034343698204186575808495607, GF(21888242871839275222246405745257275088548364400416034343698204186575808495617)), Poly(0, GF(21888242871839275222246405745257275088548364400416034343698204186575808495617)), Poly(3648040478639879203707734290876212514758060733402672390616367364429301415936x^4 + 3648040478639879203707734290876212514758060733402672390616367364429301415938x^3 + 18240202393199396018538671454381062573790303667013361953081836822146507079674x^2 + 18240202393199396018538671454381062573790303667013361953081836822146507079691x + 21888242871839275222246405745257275088548364400416034343698204186575808495612, GF(21888242871839275222246405745257275088548364400416034343698204186575808495617)), Poly(0, GF(21888242871839275222246405745257275088548364400416034343698204186575808495617))]\n",
      "[Poly(0, GF(21888242871839275222246405745257275088548364400416034343698204186575808495617)), Poly(20976232752179305421319472172538221959858849217065366246044112345468483141633x^4 + 9120101196599698009269335727190531286895151833506680976540918411073253539840x^3 + 11856131555579607412050136445347690672963697383558685269503193934395229601794x^2 + 1824020239319939601853867145438106257379030366701336195308183682214650707966x + 1, GF(21888242871839275222246405745257275088548364400416034343698204186575808495617)), Poly(0, GF(21888242871839275222246405745257275088548364400416034343698204186575808495617)), Poly(0, GF(21888242871839275222246405745257275088548364400416034343698204186575808495617)), Poly(0, GF(21888242871839275222246405745257275088548364400416034343698204186575808495617)), Poly(20976232752179305421319472172538221959858849217065366246044112345468483141633x^4 + 12768141675239577212977070018066743801653212566909353367157285775502554955776x^3 + 912010119659969800926933572719053128689515183350668097654091841107325353987x^2 + 9120101196599698009269335727190531286895151833506680976540918411073253539834x + 5, GF(21888242871839275222246405745257275088548364400416034343698204186575808495617)), Poly(4560050598299849004634667863595265643447575916753340488270459205536626769920x^4 + 9120101196599698009269335727190531286895151833506680976540918411073253539843x^3 + 6384070837619788606488535009033371900826606283454676683578642887751277477877x^2 + 1824020239319939601853867145438106257379030366701336195308183682214650707988x + 21888242871839275222246405745257275088548364400416034343698204186575808495606, GF(21888242871839275222246405745257275088548364400416034343698204186575808495617)), Poly(16416182153879456416684804308942956316411273300312025757773653139931856371713x^4 + 21888242871839275222246405745257275088548364400416034343698204186575808495614x^3 + 16416182153879456416684804308942956316411273300312025757773653139931856371725x^2 + 10944121435919637611123202872628637544274182200208017171849102093287904247789x + 10, GF(21888242871839275222246405745257275088548364400416034343698204186575808495617)), Poly(4560050598299849004634667863595265643447575916753340488270459205536626769920x^4 + 16416182153879456416684804308942956316411273300312025757773653139931856371715x^3 + 6384070837619788606488535009033371900826606283454676683578642887751277477880x^2 + 16416182153879456416684804308942956316411273300312025757773653139931856371725x + 21888242871839275222246405745257275088548364400416034343698204186575808495611, GF(21888242871839275222246405745257275088548364400416034343698204186575808495617))]\n"
     ]
    }
   ],
   "source": [
    "# we have 5 constraints so interpolate 5 points\n",
    "xs = GF(np.array([1,2,3,4,5]))\n",
    "\n",
    "def interpolate_col(c):\n",
    "    return galois.lagrange_poly(xs, c)\n",
    "\n",
    "U_polys = []\n",
    "V_polys = []\n",
    "W_polys = []\n",
    "\n",
    "# interpolate each column\n",
    "for col_index in range(9):\n",
    "    # extract column\n",
    "    L_col = L[:, col_index]\n",
    "    R_col = R[:, col_index]\n",
    "    O_col = O[:, col_index]\n",
    "\n",
    "    # get Lagrange'd\n",
    "    U_poly = interpolate_col(L_col)\n",
    "    V_poly = interpolate_col(R_col)\n",
    "    W_poly = interpolate_col(O_col)\n",
    "\n",
    "    U_polys.append(U_poly)\n",
    "    V_polys.append(V_poly)\n",
    "    W_polys.append(W_poly)\n",
    "\n",
    "print(\"interplolated all columns\\n\")\n",
    "print(\"Result:\\n\\n\")\n",
    "print(U_polys)\n",
    "print(V_polys)\n",
    "print(W_polys)\n"
   ]
  },
  {
   "cell_type": "markdown",
   "metadata": {},
   "source": [
    "### Completing the QAP equation\n",
    "As of now we have computed this: <BR><BR>\n",
    "$\\underbrace{\\sum_{i=1}^{5} a_i u_i(x)}_\\text{U polys from L}  \\underbrace{\\sum_{i=1}^5 a_i v_i(x)}_\\text{ V polys from R} = \\underbrace{\\sum_{i=1}^{5} a_i w_i(x)}_\\text{ W polys from O}$\n",
    "The verification is not succinct just yet, reason being that the verifier verifies all constraint points individually: \n",
    "- Check $U(1) \\cdot V(1) = W(1)$\n",
    "- $U(2) \\cdot V(2) = W(2)$\n",
    "\n",
    "And so on... we'd need 5 separate checks in our case.\n",
    "\n",
    "#### Enabling succinctness\n",
    "To enable succintness we need to introduce a set of two polynomial $h(x)$ and $t(x)$. $t(x)$ being $t(x) = (x - 1)(x - 2)...(x - 5)$<BR><BR>\n",
    "knowing this we can compute $h(x)$ which formula is this: $h(x) = \\frac{u(x)v(x) – w(x)}{t(x)}$. <BR><BR>\n",
    "Now the verifier only needs ONE check, invoking the Powers of Tau...\n",
    "\n",
    "## Trusted setup - Powers of Tau\n",
    "Thanks to the work we just did we have laid all the groundwork are now able to evaluate the polynomial at a secret value $\\tau$ (tau), though the QAP is not exactly complete yet.<BR>\n",
    "Going back to our witness vector $[1,out,x,y,z,v_1,v_2,v_3,v_4]$, and knowing that the prover only wants to prove that he knows ${x,y,z}$ for which it satifies the equation $out = 1059$,<BR>\n",
    "we want only want the first 2 inputs to be publics. So we define $l = 2$ so that inputs starting from $x$ to $v_4$ will not be known by the verifier.\n",
    "\n",
    "### Computing t(x) with $\\tau$:"
   ]
  },
  {
   "cell_type": "code",
   "execution_count": 5,
   "metadata": {},
   "outputs": [
    {
     "name": "stdout",
     "output_type": "stream",
     "text": [
      "Trusted setup phase of the QAP implementation\n",
      "the degree of our polynomial is: 4\n",
      "number of private and public inputs respectively: 7 and 2\n",
      "T(1) =  0\n",
      "T(2) =  0\n",
      "T(3) =  0\n",
      "T(4) =  0\n",
      "T(5) =  0\n",
      "**********\n",
      "T(6) =  120\n",
      "**********\n",
      "\n",
      "Ttau = 5592813083423918248966543682874233293440\n"
     ]
    }
   ],
   "source": [
    "import random\n",
    "\n",
    "print(\"Trusted setup phase of the QAP implementation\")\n",
    "tau = GF(random.randint(1, 100000000))\n",
    "# num of public inputs\n",
    "l = 2\n",
    "# num of private inputs\n",
    "r = len(w) - l\n",
    "deg = len(L) - 1\n",
    "print(\"the degree of our polynomial is:\", deg)\n",
    "print(\"number of private and public inputs respectively:\", r,\"and\", l)\n",
    "\n",
    "# compute t(x) with the known roots\n",
    "def compute_t(roots):\n",
    "    # init t at = (x-1)\n",
    "    t = galois.Poly([1, curve_order - 1], field=GF)\n",
    "    for i in range(2, len(roots) + 1):\n",
    "        t = t * galois.Poly([1, curve_order - i], field=GF)\n",
    "    return t\n",
    "\n",
    "T = compute_t(xs)\n",
    "\n",
    "# check roots (for x in 1..=5 x should be root and !root if > 5 )\n",
    "for i in range(1, 7):\n",
    "    print(f\"T({i}) = \", T(i))\n",
    "    if i == 5 or i == 6:\n",
    "        print(\"*\"*10)\n",
    "\n",
    "Ttau = T(tau)\n",
    "print(\"\\nTtau =\", Ttau)"
   ]
  },
  {
   "cell_type": "markdown",
   "metadata": {},
   "source": [
    "time to compute the structured reference strings, here is the code following the RareSkills ZK book based on the computation instructions: \n",
    "\n",
    "$[\\Omega_{n-1}, \\Omega_{n-2},\\dots,\\Omega_2,\\Omega_1,G_1] = [\\tau^nG_1,\\tau^{n-1}G_1,\\dots,\\tau G_1,G_1] \\text{srs for } G_1$ <BR>\n",
    "$[\\Theta_{n-1}, \\Theta_{n-2},\\dots,\\Theta_2,\\Theta_2,G_2] = [\\tau^nG_2,\\tau^{n-1}G_2,\\dots,\\tau G_2,G_2] \\text{srs for } G_2$ <BR>\n",
    "$[\\Upsilon_{n-2},\\Upsilon_{n-3},\\dots,\\Upsilon_1,\\Upsilon_0]=[\\tau^{n-2}t(\\tau)G_1,\\tau^{n-3}t(\\tau)G_1,\\dots,\\tau t(\\tau)G_1,t(\\tau)G_1]  \\text{srs for }h(\\tau)t(\\tau)$"
   ]
  },
  {
   "cell_type": "code",
   "execution_count": 34,
   "metadata": {},
   "outputs": [],
   "source": [
    "from py_ecc.optimized_bn128 import G1, G2, multiply, add, pairing\n",
    "\n",
    "## compute the structured reference strings \n",
    "# srs for G1\n",
    "tau_G1 = [multiply(G1, int(tau**i)) for i in range(0, L.shape[0])]\n",
    "# srs for G2\n",
    "tau_G2 = [multiply(G2, int(tau**i)) for i in range(0, L.shape[0])]\n",
    "# srs for h(tau)t(tau)\n",
    "ht = [multiply(G1, int(tau**i * Ttau)) for i in range(0, L.shape[0] - 1)]"
   ]
  },
  {
   "cell_type": "markdown",
   "metadata": {},
   "source": [
    "Now compute $h(x)$, as we know:\n",
    "$h(x) = \\frac{u(x)v(x) – w(x)}{t(x)}$, we need to first compute these $u(x), v(x),  w(x)$ which are each the witness polynomial dot products.<BR>Note: remainder of the $h$ computation should be 0 "
   ]
  },
  {
   "cell_type": "code",
   "execution_count": 35,
   "metadata": {},
   "outputs": [
    {
     "name": "stdout",
     "output_type": "stream",
     "text": [
      "h(x): 2812031202284906886191378515883747146792671815331226634433449843414253174800x^3 + 7220080113974760924004890784025837268791995201526122439761560408766325718895x^2 + 10032111316259667810196269299909584415584667016857349074195010252180578894130x + 10032111316259667810196269299909584415584667016857349074195010252180578893869\n"
     ]
    }
   ],
   "source": [
    "\n",
    "\n",
    "# init and compute u(x),v(x),w(x)\n",
    "u_x = galois.Poly([0], field=GF)\n",
    "v_x = galois.Poly([0], field=GF)  \n",
    "w_x = galois.Poly([0], field=GF)\n",
    "\n",
    "for i in range(len(w)):\n",
    "    u_x += w[i] * U_polys[i]\n",
    "    v_x += w[i] * V_polys[i]\n",
    "    w_x += w[i] * W_polys[i]\n",
    "\n",
    "# now h(x)\n",
    "h_x = (u_x * v_x - w_x) // T\n",
    "rem = (u_x * v_x - w_x) % T\n",
    "assert rem == 0\n",
    "\n",
    "print(\"h(x):\", h_x)"
   ]
  },
  {
   "cell_type": "markdown",
   "metadata": {},
   "source": [
    "Very good, QAP is almost done, we only need to evaluate the polynomials at $\\tau$:<BR>\n",
    "\n",
    "\n",
    "$U(\\tau) = \\sum_{i=1}^m a_iu_i(\\tau)$ <BR>\n",
    "$V(\\tau) = \\sum_{i=1}^m a_iv_i(\\tau)$ <BR>\n",
    "$W(\\tau) = \\sum_{i=1}^m a_iw_i(\\tau)$ <BR>\n",
    "\n",
    "Making sure that the witness is mathematically correct, very simple thanks to homomorphism: $U(\\tau) \\cdot V(\\tau) - W(\\tau) = h(\\tau) \\cdot t(\\tau)$\n"
   ]
  },
  {
   "cell_type": "code",
   "execution_count": 36,
   "metadata": {},
   "outputs": [
    {
     "name": "stdout",
     "output_type": "stream",
     "text": [
      "True\n"
     ]
    }
   ],
   "source": [
    "ut = u_x(tau)\n",
    "vt = v_x(tau)\n",
    "\n",
    "wt = w_x(tau) \n",
    "ht_check = h_x(tau)*Ttau\n",
    "\n",
    "print(ut * vt - wt == ht_check)\n",
    "assert ut * vt - wt == ht_check"
   ]
  },
  {
   "cell_type": "code",
   "execution_count": 38,
   "metadata": {},
   "outputs": [
    {
     "name": "stdout",
     "output_type": "stream",
     "text": [
      "A_G1: (17063633786293039501920134707601563537472038617915562481089228803356217261440, 3734803377031825317906717909614831873225825684706779639302087822020715508121, 3945148716357888721442821430437559513914060781824693037946433305962200093464)\n",
      "B_G2: ((594518841012214200051598444068784177205113269574535018051562332616770755194, 3128442221645249770986479067600472809591086197824709174724767557816723662741), (16198460312999507429354575304538914241292236746065102238021205192193616797994, 19533680978130598674145684453195246014672651781465495568981148328591129832561), (20456848875177545211890597586438817577140449593087295982920556614083424086009, 17358289810247385155428747984402866703959767010862624906095588240274337820627))\n",
      "B_G1: (11646988243394549761788832137207356629720841677269863583864698901521347103175, 20203301105702671082590981918034722383518022414615921323858824704575196608005, 11086831257391847384516104414937604570194987998263491505841355728046553677411)\n",
      "C_G1: (15251925115513042896034602663349949532264369081034472966384456641606535818836, 19647423236583755537379279961992134438492049873178479143678481623587072217378, 11294782845376664701155088790962662463776673474029433393165668146956813718422)\n",
      "H_G1: (20714060149506612424399106844186001292213257184198024921628693043391788590558, 5875415080907672559768577050237966518430707249814321934174382024990510125129, 15333836706725717697534234812949098609475431388662895314228647968327558238322)\n",
      "C_G1: (15251925115513042896034602663349949532264369081034472966384456641606535818836, 19647423236583755537379279961992134438492049873178479143678481623587072217378, 11294782845376664701155088790962662463776673474029433393165668146956813718422)\n"
     ]
    }
   ],
   "source": [
    "def encrypt_poly(poly, points):\n",
    "    coeff = poly.coefficients()[::-1]\n",
    "\n",
    "    assert len(coeff) == len(points), \"Poly degree mismatch\"\n",
    "    terms = [multiply(point, int(coeff)) for point, coeff in zip(points, coeff)]\n",
    "    evaluation = terms[0]\n",
    "    for i in range(1, len(terms)):\n",
    "        evaluation = add(evaluation, terms[i])\n",
    "    return evaluation\n",
    "\n",
    "\n",
    "A_G1 = encrypt_poly(u_x, tau_G1)\n",
    "B_G2 = encrypt_poly(v_x, tau_G2)\n",
    "B_G1 = encrypt_poly(v_x, tau_G1)\n",
    "C_G1 = encrypt_poly(w_x, tau_G1)\n",
    "H_G1 = encrypt_poly(h_x, ht)\n",
    "C_G1 = add(C_G1, H_G1)\n",
    "\n",
    "print(\"A_G1:\", A_G1)\n",
    "print(\"B_G2:\", B_G2)\n",
    "print(\"B_G1:\", B_G1)\n",
    "print(\"C_G1:\", C_G1)\n",
    "print(\"H_G1:\", H_G1)\n",
    "print(\"C_G1:\", C_G1)\n",
    "\n",
    "assert pairing(B_G2, A_G1) == pairing(G2, C_G1), \"Verification failed\""
   ]
  },
  {
   "cell_type": "code",
   "execution_count": null,
   "metadata": {},
   "outputs": [],
   "source": []
  }
 ],
 "metadata": {
  "kernelspec": {
   "display_name": "Python 3",
   "language": "python",
   "name": "python3"
  },
  "language_info": {
   "codemirror_mode": {
    "name": "ipython",
    "version": 3
   },
   "file_extension": ".py",
   "mimetype": "text/x-python",
   "name": "python",
   "nbconvert_exporter": "python",
   "pygments_lexer": "ipython3",
   "version": "3.11.0"
  },
  "widgets": {
   "application/vnd.jupyter.widget-state+json": {
    "state": {},
    "version_major": 2,
    "version_minor": 0
   }
  }
 },
 "nbformat": 4,
 "nbformat_minor": 4
}

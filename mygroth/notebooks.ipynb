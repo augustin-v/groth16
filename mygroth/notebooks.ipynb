{
 "cells": [
  {
   "cell_type": "markdown",
   "metadata": {},
   "source": [
    "Thanks to RareSkill's awesome ZK book I've acquired enough knowledge to implement Groth16 in python.<br>Though I don't expect this to be easy, I'll leverage my giga brain and exceptional resilience to apply what I've learned to this complex and interesting project.\n",
    "\n",
    "### Quick introduction to Groth16\n",
    "Groth16 is a magic algorithm to validate that a statement is true without revealing any information about the inputs.<br>\n",
    "For example, imagine that you want to prove to someone that you know a secret number that satisfies a specific equation without revealing the number itself; <br>the Groth16 algorithm could do just that.\n",
    "It is known for its efficiency and small proof size, though it comes with one compromise: The need of a trusted setup.\n",
    "\n",
    "### Polynomial Secret Proof PoC \n",
    "To dive into the practical implementation of Groth16, I'll start with a foundational example that showcases its core strengths.<br> \n",
    "I'm going to implement a system that proves knowledge of a secret value that satisfies a polynomial equation:<br> something like proving **I know a secret {x,y,z} such that $5x² + xy + 4z³ = 1059$**, without ever revealing what s actually is. <BR><BR> The prover (likely the user) must provide the correct ${x,y,x}$ values which in our case are: $x = 13$,  $y = 14$,  $z = 2$ though they will stay private and the verifier will not have access to these raw values.\n",
    "\n",
    "#### Steps and required setup overview (ordered):\n",
    "- Define the R1CS constraint system based on our polynomial equation\n",
    "- Convert R1CS -> QAP\n",
    "- Implement the trusted setup phase to generate proving and verification keys\n",
    "- Build the prover that creates ZK proofs using the secret witness\n",
    "- Build the verifier that validates proofs without learning the secret\n",
    "- Test the complete workflow with our polynomial example\n",
    "\n",
    "---\n",
    "\n",
    "### Defining the R1CS constraints\n",
    "\n",
    "Lets say we are proving our earlier  equation $1059 = 5x² + xy + 4z³$, we want to prove that we know the solution ($x = 13$,  $y = 14$,  $z = 2$).<BR><BR>\n",
    "We want to only have a single multiplication:<BR>\n",
    "\n",
    "-  $v_1 = xx$ <BR>\n",
    "-  $v_2 = 5v_1$\n",
    "-  $v_3 = zz$\n",
    "-  $v_4 = 4z * v_3$<BR><BR><BR> So we are left with a single mutliplication:<BR><BR>\n",
    "$1059 = v_2 + xy + v_4$<BR><BR>\n",
    "Simplified:<BR><BR>$1059 - v_2 - v_4 = xy$\n",
    "\n",
    "<BR><BR>\n",
    "we define the witness vector with all variables, including a constant $1$ as the first variable:<BR><BR>\n",
    "let $out = 1059$<BR><BR>\n",
    "let $w$ be the witness vector<BR><B>\n",
    "\n",
    "$w = [1,out,x,y,z,v_1,v_2,v_3,v_4]$<BR>\n",
    "$w = [1,1059,13,14,2,169,845,4,32]$\n",
    "<BR><BR><B>then define $O=L*R$, with our 5 constraints<BR>\n",
    "\n",
    "$L = \\begin{bmatrix}\n",
    "0 & 0 & 1 & 0 & 0 & 0 & 0 & 0 & 0 \\\\\n",
    "5 & 0 & 0 & 0 & 0 & 0 & 0 & 0 & 0 \\\\\n",
    "0 & 0 & 0 & 0 & 1 & 0 & 0 & 0 & 0 \\\\\n",
    "0 & 0 & 0 & 0 & 4 & 0 & 0 & 0 & 0 \\\\\n",
    "0 & 0 & 1 & 0 & 0 & 0 & 0 & 0 & 0 \\\\\n",
    "\\end{bmatrix}$\n",
    "\n",
    "$R = \\begin{bmatrix}\n",
    "0 & 0 & 1 & 0 & 0 & 0 & 0 & 0 & 0 \\\\\n",
    "0 & 0 & 0 & 0 & 0 & 1 & 0 & 0 & 0 \\\\\n",
    "0 & 0 & 0 & 0 & 1 & 0 & 0 & 0 & 0 \\\\\n",
    "0 & 0 & 0 & 0 & 0 & 0 & 0 & 1 & 0 \\\\\n",
    "0 & 0 & 0 & 1 & 0 & 0 & 0 & 0 & 0 \\\\\n",
    "\\end{bmatrix}$\n",
    "\n",
    "$O = \\begin{bmatrix}\n",
    "0 & 0 & 0 & 0 & 0 & 1 & 0 & 0 & 0 \\\\\n",
    "0 & 0 & 0 & 0 & 0 & 0 & 1 & 0 & 0 \\\\\n",
    "0 & 0 & 0 & 0 & 0 & 0 & 0 & 1 & 0 \\\\\n",
    "0 & 0 & 0 & 0 & 0 & 0 & 0 & 0 & 1 \\\\\n",
    "0 & 1 & 0 & 0 & 0 & 0 & -1 & 0 & -1 \\\\\n",
    "\\end{bmatrix}$\n",
    "\n",
    "Lets verify the circuit is correct with code"
   ]
  },
  {
   "cell_type": "code",
   "execution_count": 14,
   "metadata": {},
   "outputs": [
    {
     "name": "stdout",
     "output_type": "stream",
     "text": [
      "Ow = Lw * Rw:  True\n"
     ]
    }
   ],
   "source": [
    "from py_ecc.optimized_bn128 import curve_order\n",
    "import galois\n",
    "import numpy as np\n",
    "\n",
    "# define finite field on the bn128 EC (commonly used by Ethereum)\n",
    "GF = galois.GF(curve_order) # = 21888242871839275222246405745257275088548364400416034343698204186575808495617\n",
    "\n",
    "# witness vector\n",
    "w = GF([1,1059,13,14,2,169,845,4,32])\n",
    "\n",
    "# [1,out,x,y,z,v_1,v_2,v_3,v_4]\n",
    "L = GF(np.array([\n",
    "    [0, 0, 1, 0, 0, 0, 0, 0, 0],\n",
    "    [5, 0, 0, 0, 0, 0, 0, 0, 0],\n",
    "    [0, 0, 0, 0, 1, 0, 0, 0, 0],\n",
    "    [0, 0, 0, 0, 4, 0, 0, 0, 0],\n",
    "    [0, 0, 1, 0, 0, 0, 0, 0, 0],\n",
    "]))\n",
    "\n",
    "R = GF(np.array([\n",
    "    [0, 0, 1, 0, 0, 0, 0, 0, 0],\n",
    "    [0, 0, 0, 0, 0, 1, 0, 0, 0],\n",
    "    [0, 0, 0, 0, 1, 0, 0, 0, 0],\n",
    "    [0, 0, 0, 0, 0, 0, 0, 1, 0],\n",
    "    [0, 0, 0, 1, 0, 0, 0, 0, 0],\n",
    "]))\n",
    "\n",
    "O = GF(np.array([\n",
    "    [0, 0, 0, 0, 0, 1, 0, 0, 0],\n",
    "    [0, 0, 0, 0, 0, 0, 1, 0, 0],\n",
    "    [0, 0, 0, 0, 0, 0, 0, 1, 0],\n",
    "    [0, 0, 0, 0, 0, 0, 0, 0, 1],\n",
    "    [0, 1, 0, 0, 0, 0, curve_order-1, 0, curve_order-1], # since we are working on a finite field i.e. -1 mod 17 = 16\n",
    "]))\n",
    "\n",
    "result = np.matmul(O, w) == np.multiply(np.matmul(L, w), np.matmul(R, w))\n",
    "\n",
    "assert result.all(), \"incorrect\"\n",
    "print(\"Ow = Lw * Rw: \" , result.all())\n",
    "\n"
   ]
  },
  {
   "cell_type": "markdown",
   "metadata": {},
   "source": [
    "#### As expected **it works**! If we changed even a single number it would obviously fail.\n",
    "\n",
    "## "
   ]
  }
 ],
 "metadata": {
  "kernelspec": {
   "display_name": "Python 3",
   "language": "python",
   "name": "python3"
  },
  "language_info": {
   "codemirror_mode": {
    "name": "ipython",
    "version": 3
   },
   "file_extension": ".py",
   "mimetype": "text/x-python",
   "name": "python",
   "nbconvert_exporter": "python",
   "pygments_lexer": "ipython3",
   "version": "3.11.0"
  },
  "widgets": {
   "application/vnd.jupyter.widget-state+json": {
    "state": {},
    "version_major": 2,
    "version_minor": 0
   }
  }
 },
 "nbformat": 4,
 "nbformat_minor": 4
}

{
 "cells": [
  {
   "cell_type": "markdown",
   "metadata": {},
   "source": [
    "Thanks to RareSkill's awesome ZK book I've acquired enough knowledge to implement Groth16 in python.<br>Though I don't expect this to be easy, I'll leverage my giga brain and exceptional resilience to apply what I've learned to this complex and interesting project.\n",
    "\n",
    "### Quick introduction to Groth16\n",
    "Groth16 is a magic algorithm to validate that a statement is true without revealing any information about the inputs.<br>\n",
    "For example, imagine that you want to prove to someone that you know a secret number that satisfies a specific equation without revealing the number itself; <br>the Groth16 algorithm could do just that.\n",
    "It is known for its efficiency and small proof size, though it comes with one compromise: The need of a trusted setup.\n",
    "\n",
    "### Polynomial Secret Proof PoC \n",
    "To dive into the practical implementation of Groth16, I'll start with a foundational example that showcases its core strengths.<br> \n",
    "I'm going to implement a system that proves knowledge of a secret value that satisfies a polynomial equation:<br> something like proving I know a secret {x,y,z} such that 5x² + xy + 4z³ = 1059, without ever revealing what s actually is. <BR>This maps perfectly to Groth16's quadratic arithmetic constraints and will give me hands-on experience with the trusted setup, constraint systems, and prover/verifier workflow.\n",
    "\n",
    "#### Steps and required setup overview (ordered):\n",
    "- Define the R1CS constraint system based on our polynomial equation\n",
    "- Implement the trusted setup phase to generate proving and verification keys\n",
    "- Build the prover that creates ZK proofs using the secret witness\n",
    "- Build the verifier that validates proofs without learning the secret\n",
    "- Test the complete workflow with our polynomial example\n",
    "\n",
    "---"
   ]
  }
 ],
 "metadata": {
  "kernelspec": {
   "display_name": "Python 3",
   "language": "python",
   "name": "python3"
  },
  "language_info": {
   "codemirror_mode": {
    "name": "ipython",
    "version": 3
   },
   "file_extension": ".py",
   "mimetype": "text/x-python",
   "name": "python",
   "nbconvert_exporter": "python",
   "pygments_lexer": "ipython3",
   "version": "3.8.0"
  },
  "widgets": {
   "application/vnd.jupyter.widget-state+json": {
    "state": {},
    "version_major": 2,
    "version_minor": 0
   }
  }
 },
 "nbformat": 4,
 "nbformat_minor": 4
}
